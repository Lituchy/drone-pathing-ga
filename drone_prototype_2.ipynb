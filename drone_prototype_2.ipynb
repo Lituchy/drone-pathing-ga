{
 "cells": [
  {
   "cell_type": "code",
   "execution_count": 12,
   "metadata": {},
   "outputs": [],
   "source": [
    "import numpy as np\n",
    "import random\n",
    "from simulation import Simulation"
   ]
  },
  {
   "cell_type": "code",
   "execution_count": 2,
   "metadata": {},
   "outputs": [],
   "source": [
    "class Drone:\n",
    "    \n",
    "    features = ['Velocity', 'Reaction Distance']\n",
    "    feature_creation = [lambda x: random.uniform(1, 10), lambda x: random.uniform(1, 5)]\n",
    "    \n",
    "    def __init__(self, samples):\n",
    "        self.samples = samples\n",
    "        self.dist = 500\n",
    "        self.iterations = self.dist\n",
    "        self.size = len(self.features)\n",
    "        \n",
    "        self.genome = np.zeros((samples, self.size))\n",
    "        for i, row in enumerate(self.genome):\n",
    "            for j, col in enumerate(row):\n",
    "                self.genome[i, j] = self.feature_creation[j](0)\n",
    "    \n",
    "    def __str__(self):\n",
    "        return str(self.features) + '\\n' + str(self.genome)\n",
    "    \n",
    "    def batch_fitness(self):\n",
    "        \n",
    "        positions = np.zeros(self.samples)\n",
    "        times = np.zeros(self.samples)\n",
    "        passed = np.zeros(self.samples)\n",
    "        \n",
    "        for frame in range(self.iterations + 1):\n",
    "            for i, pos in enumerate(positions):\n",
    "                if pos >= self.dist and not passed[i]:\n",
    "                    times[i] = 1 / frame\n",
    "                    passed[i] = 1\n",
    "            positions += self.genome[:, 0]\n",
    "        \n",
    "        return times\n",
    "        \n",
    "    def reset_genome(self):\n",
    "        self.genome = np.zeros((self.samples, self.size))\n",
    "        for i, row in enumerate(self.genome):\n",
    "            for j, col in enumerate(row):\n",
    "                self.genome[i, j] = self.feature_creation[j](0)\n",
    "    \n",
    "    def mutate(self, idx, current):\n",
    "        val = self.feature_creation[idx](0)\n",
    "        if val == current:\n",
    "            return self.mutate(idx, current)\n",
    "        return val"
   ]
  },
  {
   "cell_type": "code",
   "execution_count": 11,
   "metadata": {},
   "outputs": [
    {
     "name": "stdout",
     "output_type": "stream",
     "text": [
      "['Velocity', 'Reaction Distance']\n",
      "array([[ 4.618730444080043,  1.201130187190759], \n",
      "       [ 6.770296283403236,  4.973114557087516], \n",
      "       [ 2.1205864173687177,  3.6297686811698995], \n",
      "       [ 7.798949715172241,  3.166575172367865], \n",
      "       [ 4.502562658992755,  1.1304596263806488], \n",
      "       [ 9.066186356271288,  1.439704941003622], \n",
      "       [ 6.150091710143648,  2.361706428132817], \n",
      "       [ 1.2789422006178268,  1.3916866161773505], \n",
      "       [ 6.9810553153180015,  2.2829828002664088], \n",
      "       [ 5.208234033932494,  2.8136462583265756]])\n",
      "10\n",
      "array([[ 0.], \n",
      "       [ 0.], \n",
      "       [ 0.], \n",
      "       [ 0.], \n",
      "       [ 0.], \n",
      "       [ 0.], \n",
      "       [ 0.], \n",
      "       [ 0.], \n",
      "       [ 0.], \n",
      "       [ 0.]])\n"
     ]
    },
    {
     "ename": "AssertionError",
     "evalue": "",
     "output_type": "error",
     "traceback": [
      "\u001b[0;31m---------------------------------------------------------------------------\u001b[0m",
      "\u001b[0;31mAssertionError\u001b[0m                            Traceback (most recent call last)",
      "\u001b[0;32m<ipython-input-11-54a972025f73>\u001b[0m in \u001b[0;36m<module>\u001b[0;34m\u001b[0m\n\u001b[1;32m      3\u001b[0m \u001b[0mprint\u001b[0m\u001b[0;34m(\u001b[0m\u001b[0mdrone\u001b[0m\u001b[0;34m.\u001b[0m\u001b[0msamples\u001b[0m\u001b[0;34m)\u001b[0m\u001b[0;34m\u001b[0m\u001b[0;34m\u001b[0m\u001b[0m\n\u001b[1;32m      4\u001b[0m \u001b[0mprint\u001b[0m\u001b[0;34m(\u001b[0m\u001b[0mnp\u001b[0m\u001b[0;34m.\u001b[0m\u001b[0mzeros\u001b[0m\u001b[0;34m(\u001b[0m\u001b[0;34m(\u001b[0m\u001b[0;36m10\u001b[0m\u001b[0;34m,\u001b[0m\u001b[0;36m1\u001b[0m\u001b[0;34m)\u001b[0m\u001b[0;34m)\u001b[0m\u001b[0;34m)\u001b[0m\u001b[0;34m\u001b[0m\u001b[0;34m\u001b[0m\u001b[0m\n\u001b[0;32m----> 5\u001b[0;31m \u001b[0mprint\u001b[0m\u001b[0;34m(\u001b[0m\u001b[0mdrone\u001b[0m\u001b[0;34m.\u001b[0m\u001b[0mbatch_fitness\u001b[0m\u001b[0;34m(\u001b[0m\u001b[0;34m)\u001b[0m\u001b[0;34m)\u001b[0m\u001b[0;34m\u001b[0m\u001b[0;34m\u001b[0m\u001b[0m\n\u001b[0m",
      "\u001b[0;32m<ipython-input-2-22cda8168ac6>\u001b[0m in \u001b[0;36mbatch_fitness\u001b[0;34m(self)\u001b[0m\n\u001b[1;32m     20\u001b[0m     \u001b[0;32mdef\u001b[0m \u001b[0mbatch_fitness\u001b[0m\u001b[0;34m(\u001b[0m\u001b[0mself\u001b[0m\u001b[0;34m)\u001b[0m\u001b[0;34m:\u001b[0m\u001b[0;34m\u001b[0m\u001b[0;34m\u001b[0m\u001b[0m\n\u001b[1;32m     21\u001b[0m \u001b[0;34m\u001b[0m\u001b[0m\n\u001b[0;32m---> 22\u001b[0;31m         \u001b[0mpositions\u001b[0m \u001b[0;34m=\u001b[0m \u001b[0mnp\u001b[0m\u001b[0;34m.\u001b[0m\u001b[0mzeros\u001b[0m\u001b[0;34m(\u001b[0m\u001b[0mself\u001b[0m\u001b[0;34m.\u001b[0m\u001b[0msamples\u001b[0m\u001b[0;34m)\u001b[0m\u001b[0;34m\u001b[0m\u001b[0;34m\u001b[0m\u001b[0m\n\u001b[0m\u001b[1;32m     23\u001b[0m         \u001b[0mtimes\u001b[0m \u001b[0;34m=\u001b[0m \u001b[0mnp\u001b[0m\u001b[0;34m.\u001b[0m\u001b[0mzeros\u001b[0m\u001b[0;34m(\u001b[0m\u001b[0mself\u001b[0m\u001b[0;34m.\u001b[0m\u001b[0msamples\u001b[0m\u001b[0;34m)\u001b[0m\u001b[0;34m\u001b[0m\u001b[0;34m\u001b[0m\u001b[0m\n\u001b[1;32m     24\u001b[0m         \u001b[0mpassed\u001b[0m \u001b[0;34m=\u001b[0m \u001b[0mnp\u001b[0m\u001b[0;34m.\u001b[0m\u001b[0mzeros\u001b[0m\u001b[0;34m(\u001b[0m\u001b[0mself\u001b[0m\u001b[0;34m.\u001b[0m\u001b[0msamples\u001b[0m\u001b[0;34m)\u001b[0m\u001b[0;34m\u001b[0m\u001b[0;34m\u001b[0m\u001b[0m\n",
      "\u001b[0;32m~/ai-prac/venv/lib/python3.8/site-packages/tinynumpy/tinynumpy.py\u001b[0m in \u001b[0;36mzeros\u001b[0;34m(shape, dtype, order)\u001b[0m\n\u001b[1;32m    283\u001b[0m     \"\"\"Return a new array of given shape and type, filled with zeros\n\u001b[1;32m    284\u001b[0m     \"\"\"\n\u001b[0;32m--> 285\u001b[0;31m     \u001b[0;32mreturn\u001b[0m \u001b[0mempty\u001b[0m\u001b[0;34m(\u001b[0m\u001b[0mshape\u001b[0m\u001b[0;34m,\u001b[0m \u001b[0mdtype\u001b[0m\u001b[0;34m,\u001b[0m \u001b[0morder\u001b[0m\u001b[0;34m)\u001b[0m\u001b[0;34m\u001b[0m\u001b[0;34m\u001b[0m\u001b[0m\n\u001b[0m\u001b[1;32m    286\u001b[0m \u001b[0;34m\u001b[0m\u001b[0m\n\u001b[1;32m    287\u001b[0m \u001b[0;34m\u001b[0m\u001b[0m\n",
      "\u001b[0;32m~/ai-prac/venv/lib/python3.8/site-packages/tinynumpy/tinynumpy.py\u001b[0m in \u001b[0;36mempty\u001b[0;34m(shape, dtype, order)\u001b[0m\n\u001b[1;32m    307\u001b[0m     \"\"\"Return a new array of given shape and type, without initializing entries\n\u001b[1;32m    308\u001b[0m     \"\"\"\n\u001b[0;32m--> 309\u001b[0;31m     \u001b[0;32mreturn\u001b[0m \u001b[0mndarray\u001b[0m\u001b[0;34m(\u001b[0m\u001b[0mshape\u001b[0m\u001b[0;34m,\u001b[0m \u001b[0mdtype\u001b[0m\u001b[0;34m,\u001b[0m \u001b[0morder\u001b[0m\u001b[0;34m=\u001b[0m\u001b[0morder\u001b[0m\u001b[0;34m)\u001b[0m\u001b[0;34m\u001b[0m\u001b[0;34m\u001b[0m\u001b[0m\n\u001b[0m\u001b[1;32m    310\u001b[0m \u001b[0;34m\u001b[0m\u001b[0m\n\u001b[1;32m    311\u001b[0m \u001b[0;34m\u001b[0m\u001b[0m\n",
      "\u001b[0;32m~/ai-prac/venv/lib/python3.8/site-packages/tinynumpy/tinynumpy.py\u001b[0m in \u001b[0;36m__init__\u001b[0;34m(self, shape, dtype, buffer, offset, strides, order)\u001b[0m\n\u001b[1;32m    544\u001b[0m             \u001b[0;32mraise\u001b[0m \u001b[0mRuntimeError\u001b[0m\u001b[0;34m(\u001b[0m\u001b[0;34m'ndarray order parameter is not supported'\u001b[0m\u001b[0;34m)\u001b[0m\u001b[0;34m\u001b[0m\u001b[0;34m\u001b[0m\u001b[0m\n\u001b[1;32m    545\u001b[0m         \u001b[0;31m# Check and set shape\u001b[0m\u001b[0;34m\u001b[0m\u001b[0;34m\u001b[0m\u001b[0;34m\u001b[0m\u001b[0m\n\u001b[0;32m--> 546\u001b[0;31m         \u001b[0;32massert\u001b[0m \u001b[0misinstance\u001b[0m\u001b[0;34m(\u001b[0m\u001b[0mshape\u001b[0m\u001b[0;34m,\u001b[0m \u001b[0mtuple\u001b[0m\u001b[0;34m)\u001b[0m\u001b[0;34m\u001b[0m\u001b[0;34m\u001b[0m\u001b[0m\n\u001b[0m\u001b[1;32m    547\u001b[0m         \u001b[0;32massert\u001b[0m \u001b[0mall\u001b[0m\u001b[0;34m(\u001b[0m\u001b[0;34m[\u001b[0m\u001b[0misinstance\u001b[0m\u001b[0;34m(\u001b[0m\u001b[0mx\u001b[0m\u001b[0;34m,\u001b[0m \u001b[0mint\u001b[0m\u001b[0;34m)\u001b[0m \u001b[0;32mfor\u001b[0m \u001b[0mx\u001b[0m \u001b[0;32min\u001b[0m \u001b[0mshape\u001b[0m\u001b[0;34m]\u001b[0m\u001b[0;34m)\u001b[0m\u001b[0;34m\u001b[0m\u001b[0;34m\u001b[0m\u001b[0m\n\u001b[1;32m    548\u001b[0m         \u001b[0mself\u001b[0m\u001b[0;34m.\u001b[0m\u001b[0m_shape\u001b[0m \u001b[0;34m=\u001b[0m \u001b[0mshape\u001b[0m\u001b[0;34m\u001b[0m\u001b[0;34m\u001b[0m\u001b[0m\n",
      "\u001b[0;31mAssertionError\u001b[0m: "
     ]
    }
   ],
   "source": [
    "drone = Drone(10)\n",
    "print(drone)\n",
    "print(drone.samples)\n",
    "print(np.zeros((10,1)))\n",
    "print(drone.batch_fitness())\n"
   ]
  },
  {
   "cell_type": "code",
   "execution_count": null,
   "metadata": {},
   "outputs": [],
   "source": [
    "for mutation_rate in [.01, .02, .03, .04, .05, .075, .1, .125, .15, .175, .2, .25, .3, .4, .5]:\n",
    "    generations = []\n",
    "    bests = []\n",
    "    for trial in range(5):\n",
    "        simulation = Simulation(drone, .2, mutation_rate)\n",
    "        simulation.population.reset_genome()\n",
    "        best, best_gen = 0, 0\n",
    "        for i in range(100):\n",
    "            val = np.max(simulation.population.batch_fitness())\n",
    "            if val > best:\n",
    "                best = val\n",
    "                best_gen = i\n",
    "            simulation.population.genome = simulation.generate_genome()\n",
    "        bests.append(best)\n",
    "        generations.append(best_gen)\n",
    "    print('Mutation Rate: {}, Generation: {}, Best: {}'.format(mutation_rate, np.mean(generations), np.mean(bests)))"
   ]
  },
  {
   "cell_type": "code",
   "execution_count": null,
   "metadata": {},
   "outputs": [],
   "source": []
  }
 ],
 "metadata": {
  "kernelspec": {
   "display_name": "Python 3",
   "language": "python",
   "name": "python3"
  },
  "language_info": {
   "codemirror_mode": {
    "name": "ipython",
    "version": 3
   },
   "file_extension": ".py",
   "mimetype": "text/x-python",
   "name": "python",
   "nbconvert_exporter": "python",
   "pygments_lexer": "ipython3",
   "version": "3.9.0"
  }
 },
 "nbformat": 4,
 "nbformat_minor": 4
}

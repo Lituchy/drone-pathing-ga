{
 "cells": [
  {
   "cell_type": "code",
   "execution_count": 1,
   "metadata": {},
   "outputs": [],
   "source": [
    "import numpy as np\n",
    "import random"
   ]
  },
  {
   "cell_type": "code",
   "execution_count": 2,
   "metadata": {},
   "outputs": [],
   "source": [
    "class Knapsack:\n",
    "    \n",
    "    def __init__(self, size, weight_limit, samples):\n",
    "        self.size = size\n",
    "        self.weight_limit = weight_limit\n",
    "        self.samples = samples\n",
    "        self.genome = np.random.randint(0, 2, (samples, size))\n",
    "        self.weights = np.random.randint(0, weight_limit/4, size)\n",
    "        self.values = np.random.randint(0, 101, size)\n",
    "    \n",
    "    def __str__(self):\n",
    "        return self.genome\n",
    "    \n",
    "    def fitness(self, idx):\n",
    "        total_weight = np.sum(self.weights * self.genome[idx, :])\n",
    "        if total_weight > self.weight_limit:\n",
    "            return -1\n",
    "        return np.sum(self.values * self.genome[idx, :])\n",
    "    \n",
    "    def batch_fitness(self):\n",
    "        res = np.zeros(self.samples)\n",
    "        for idx, row in enumerate(self.genome):\n",
    "            res[idx] = self.fitness(idx)\n",
    "        return res\n",
    "    \n",
    "    def set_gene(self, row, col, value):\n",
    "        self.genome[row, col] = value\n",
    "    \n",
    "    def set_genome(self, row, value):\n",
    "        self.genome[row] = value\n",
    "        \n",
    "    def reset_genome(self):\n",
    "        self.genome = np.random.randint(0, 2, (self.samples, self.size))\n",
    "    \n",
    "    def mutate(self, idx, current):\n",
    "        val = random.randint(0, 1)\n",
    "        if val == current:\n",
    "            return self.mutate(idx, current)\n",
    "        return val"
   ]
  },
  {
   "cell_type": "code",
   "execution_count": 23,
   "metadata": {},
   "outputs": [],
   "source": [
    "class Simulation:\n",
    "    \n",
    "    def __init__(self, population, parent_proportion, mutation_rate):\n",
    "        \n",
    "        self.population = population\n",
    "        self.num_parents = int(parent_proportion * self.population.samples)\n",
    "        self.num_children = self.population.samples - self.num_parents\n",
    "        self.mutation_rate = mutation_rate\n",
    "        self.gen = 0\n",
    "    \n",
    "    def __str__(self):\n",
    "        \n",
    "        return 'Generation: {}\\n'.format(self.gen) + str(self.population.genome)\n",
    "    \n",
    "    def mating_pool(self):\n",
    "        \n",
    "        parents_idx = np.argsort(self.population.batch_fitness())[::-1]\n",
    "        return parents_idx[:self.num_parents]\n",
    "    \n",
    "    def crossover_mid(self, mating_pool):\n",
    "        \n",
    "        crossover_point = self.population.size // 2\n",
    "        children = np.zeros((self.num_children, self.population.size))\n",
    "        \n",
    "        for i in range(self.num_children):\n",
    "            par_idx = np.random.choice(mating_pool, 2, replace=False)\n",
    "            par0 = self.population.genome[par_idx[0], :crossover_point]\n",
    "            par1 = self.population.genome[par_idx[1], crossover_point:]\n",
    "            child_genome = np.concatenate((par0, par1))\n",
    "            children[i, :] = child_genome\n",
    "    \n",
    "        return children\n",
    "        \n",
    "    def crossover_random(self, mating_pool):\n",
    "        \n",
    "        children = np.zeros((self.num_children, self.population.size))\n",
    "        cols = np.arange(self.population.size)\n",
    "        \n",
    "        for i in range(self.num_children):\n",
    "            par_idx = np.random.choice(mating_pool, 2, replace=False)\n",
    "            parents = self.population.genome[par_idx]\n",
    "            indices = np.random.randint(0, 2, self.population.size)\n",
    "            children[i, :] = parents[indices, cols]\n",
    "        \n",
    "        return children\n",
    "    \n",
    "    def random_mutation(self, children):\n",
    "        \n",
    "        for i, child in enumerate(children):\n",
    "            j = random.randint(0, self.population.size - 1)\n",
    "            children[i, j] = self.population.mutate(j, children[i, j])\n",
    "    \n",
    "    def prob_mutation(self, children):\n",
    "        \n",
    "        for i, child in enumerate(children):\n",
    "            for j, val in enumerate(child):\n",
    "                if random.random() < self.mutation_rate:\n",
    "                    children[i, j] = self.population.mutate(j, children[i, j])\n",
    "            \n",
    "    def generate_genome(self):\n",
    "        \n",
    "        mating_pool = self.mating_pool()\n",
    "        parents = set(mating_pool)\n",
    "        #children = self.crossover_mid(mating_pool)\n",
    "        children = self.crossover_random(mating_pool)\n",
    "        \n",
    "        # self.random_mutation(children)\n",
    "        self.prob_mutation(children)\n",
    "        \n",
    "        genome = np.zeros((self.population.samples, self.population.size))\n",
    "        child_idx = 0\n",
    "        \n",
    "        for i, row in enumerate(genome):\n",
    "            if i in parents:\n",
    "                genome[i, :] = self.population.genome[i, :]\n",
    "            else:\n",
    "                genome[i, :] = children[child_idx, :]\n",
    "                child_idx += 1\n",
    "        \n",
    "        return genome"
   ]
  },
  {
   "cell_type": "code",
   "execution_count": 11,
   "metadata": {},
   "outputs": [],
   "source": [
    "knapsack = Knapsack(30, 200, 150)"
   ]
  },
  {
   "cell_type": "code",
   "execution_count": 24,
   "metadata": {},
   "outputs": [],
   "source": [
    "simulation = Simulation(knapsack, .1, .1)"
   ]
  },
  {
   "cell_type": "code",
   "execution_count": 25,
   "metadata": {},
   "outputs": [],
   "source": [
    "simulation.population.reset_genome()"
   ]
  },
  {
   "cell_type": "code",
   "execution_count": 26,
   "metadata": {},
   "outputs": [
    {
     "name": "stdout",
     "output_type": "stream",
     "text": [
      "Mutation Rate: 0.01, Generation: 12.8, Best: 804.2\n",
      "Mutation Rate: 0.02, Generation: 32.2, Best: 810.2\n",
      "Mutation Rate: 0.03, Generation: 13.0, Best: 819.2\n",
      "Mutation Rate: 0.04, Generation: 40.2, Best: 815.0\n",
      "Mutation Rate: 0.05, Generation: 17.4, Best: 821.0\n",
      "Mutation Rate: 0.075, Generation: 20.0, Best: 820.2\n",
      "Mutation Rate: 0.1, Generation: 34.4, Best: 820.6\n",
      "Mutation Rate: 0.125, Generation: 32.2, Best: 821.0\n",
      "Mutation Rate: 0.15, Generation: 46.4, Best: 820.2\n",
      "Mutation Rate: 0.175, Generation: 68.6, Best: 819.6\n",
      "Mutation Rate: 0.2, Generation: 70.0, Best: 816.6\n",
      "Mutation Rate: 0.25, Generation: 66.0, Best: 792.4\n",
      "Mutation Rate: 0.3, Generation: 54.0, Best: 759.4\n",
      "Mutation Rate: 0.4, Generation: 64.4, Best: 723.4\n",
      "Mutation Rate: 0.5, Generation: 28.4, Best: 661.0\n"
     ]
    }
   ],
   "source": [
    "for mutation_rate in [.01, .02, .03, .04, .05, .075, .1, .125, .15, .175, .2, .25, .3, .4, .5]:\n",
    "    generations = []\n",
    "    bests = []\n",
    "    for trial in range(5):\n",
    "        simulation = Simulation(knapsack, .1, mutation_rate)\n",
    "        simulation.population.reset_genome()\n",
    "        best, best_gen = 0, 0\n",
    "        for i in range(100):\n",
    "            val = np.max(simulation.population.batch_fitness())\n",
    "            if val > best:\n",
    "                best = val\n",
    "                best_gen = i\n",
    "            simulation.population.genome = simulation.generate_genome()\n",
    "        bests.append(best)\n",
    "        generations.append(best_gen)\n",
    "    print('Mutation Rate: {}, Generation: {}, Best: {}'.format(mutation_rate, np.mean(generations), np.mean(bests)))"
   ]
  },
  {
   "cell_type": "code",
   "execution_count": 66,
   "metadata": {},
   "outputs": [
    {
     "name": "stdout",
     "output_type": "stream",
     "text": [
      "Mutation Rate: 0.01, Generation: 76.0, Best: 1008.0\n",
      "Mutation Rate: 0.02, Generation: 39.2, Best: 1004.0\n",
      "Mutation Rate: 0.03, Generation: 34.0, Best: 1012.6\n",
      "Mutation Rate: 0.04, Generation: 25.6, Best: 1008.2\n",
      "Mutation Rate: 0.05, Generation: 41.0, Best: 1015.8\n",
      "Mutation Rate: 0.075, Generation: 26.2, Best: 1015.8\n",
      "Mutation Rate: 0.1, Generation: 36.4, Best: 1019.0\n",
      "Mutation Rate: 0.125, Generation: 30.8, Best: 1019.0\n",
      "Mutation Rate: 0.15, Generation: 66.8, Best: 1019.0\n",
      "Mutation Rate: 0.175, Generation: 60.8, Best: 1012.2\n",
      "Mutation Rate: 0.2, Generation: 54.2, Best: 1012.2\n",
      "Mutation Rate: 0.25, Generation: 67.4, Best: 991.0\n",
      "Mutation Rate: 0.3, Generation: 58.4, Best: 956.8\n",
      "Mutation Rate: 0.4, Generation: 35.6, Best: 891.0\n",
      "Mutation Rate: 0.5, Generation: 56.8, Best: 833.2\n"
     ]
    }
   ],
   "source": [
    "for mutation_rate in [.01, .02, .03, .04, .05, .075, .1, .125, .15, .175, .2, .25, .3, .4, .5]:\n",
    "    generations = []\n",
    "    bests = []\n",
    "    for trial in range(5):\n",
    "        simulation = Simulation(knapsack, 30, .1, mutation_rate)\n",
    "        simulation.population.reset_genome()\n",
    "        best, best_gen = 0, 0\n",
    "        for i in range(100):\n",
    "            val = np.max(simulation.population.batch_fitness())\n",
    "            if val > best:\n",
    "                best = val\n",
    "                best_gen = i\n",
    "            simulation.population.genome = simulation.generate_genome()\n",
    "        bests.append(best)\n",
    "        generations.append(best_gen)\n",
    "    print('Mutation Rate: {}, Generation: {}, Best: {}'.format(mutation_rate, np.mean(generations), np.mean(bests)))"
   ]
  },
  {
   "cell_type": "code",
   "execution_count": 49,
   "metadata": {},
   "outputs": [
    {
     "name": "stdout",
     "output_type": "stream",
     "text": [
      "697\n"
     ]
    }
   ],
   "source": [
    "def knapSack(W, wt, val, n): \n",
    "    K = [[0 for x in range(W + 1)] for x in range(n + 1)] \n",
    "  \n",
    "    # Build table K[][] in bottom up manner \n",
    "    for i in range(n + 1): \n",
    "        for w in range(W + 1): \n",
    "            if i == 0 or w == 0: \n",
    "                K[i][w] = 0\n",
    "            elif wt[i-1] <= w: \n",
    "                K[i][w] = max(val[i-1] \n",
    "                          + K[i-1][w-wt[i-1]],   \n",
    "                              K[i-1][w]) \n",
    "            else: \n",
    "                K[i][w] = K[i-1][w] \n",
    "  \n",
    "    return K[n][W] \n",
    "  \n",
    "val = simulation.population.values\n",
    "wt = simulation.population.weights\n",
    "W = 200\n",
    "n = len(val) \n",
    "print(knapSack(W, wt, val, n)) "
   ]
  },
  {
   "cell_type": "code",
   "execution_count": null,
   "metadata": {},
   "outputs": [],
   "source": []
  }
 ],
 "metadata": {
  "kernelspec": {
   "display_name": "Python 3",
   "language": "python",
   "name": "python3"
  },
  "language_info": {
   "codemirror_mode": {
    "name": "ipython",
    "version": 3
   },
   "file_extension": ".py",
   "mimetype": "text/x-python",
   "name": "python",
   "nbconvert_exporter": "python",
   "pygments_lexer": "ipython3",
   "version": "3.9.0"
  }
 },
 "nbformat": 4,
 "nbformat_minor": 4
}
